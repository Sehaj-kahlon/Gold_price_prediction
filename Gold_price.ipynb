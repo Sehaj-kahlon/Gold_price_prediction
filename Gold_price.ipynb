{
 "cells": [
  {
   "attachments": {},
   "cell_type": "markdown",
   "metadata": {},
   "source": [
    "<h4>Importing Libraries</h4>"
   ]
  },
  {
   "cell_type": "code",
   "execution_count": 1,
   "metadata": {},
   "outputs": [],
   "source": [
    "import numpy as np\n",
    "import pandas as pd\n",
    "import matplotlib.pyplot as plt\n",
    "import seaborn as sns\n",
    "from sklearn.model_selection import train_test_split\n",
    "from sklearn.ensemble import RandomForestRegressor\n",
    "from sklearn import metrics"
   ]
  },
  {
   "attachments": {},
   "cell_type": "markdown",
   "metadata": {},
   "source": [
    "<h4>Data Collection and Processing</h4>"
   ]
  },
  {
   "cell_type": "code",
   "execution_count": 2,
   "metadata": {},
   "outputs": [],
   "source": [
    "gold_data = pd.read_csv(\"gld_price_data.csv\")"
   ]
  },
  {
   "cell_type": "code",
   "execution_count": 3,
   "metadata": {},
   "outputs": [
    {
     "data": {
      "text/html": [
       "<div>\n",
       "<style scoped>\n",
       "    .dataframe tbody tr th:only-of-type {\n",
       "        vertical-align: middle;\n",
       "    }\n",
       "\n",
       "    .dataframe tbody tr th {\n",
       "        vertical-align: top;\n",
       "    }\n",
       "\n",
       "    .dataframe thead th {\n",
       "        text-align: right;\n",
       "    }\n",
       "</style>\n",
       "<table border=\"1\" class=\"dataframe\">\n",
       "  <thead>\n",
       "    <tr style=\"text-align: right;\">\n",
       "      <th></th>\n",
       "      <th>Date</th>\n",
       "      <th>SPX</th>\n",
       "      <th>GLD</th>\n",
       "      <th>USO</th>\n",
       "      <th>SLV</th>\n",
       "      <th>EUR/USD</th>\n",
       "    </tr>\n",
       "  </thead>\n",
       "  <tbody>\n",
       "    <tr>\n",
       "      <th>0</th>\n",
       "      <td>1/2/2008</td>\n",
       "      <td>1447.160034</td>\n",
       "      <td>84.860001</td>\n",
       "      <td>78.470001</td>\n",
       "      <td>15.180</td>\n",
       "      <td>1.471692</td>\n",
       "    </tr>\n",
       "    <tr>\n",
       "      <th>1</th>\n",
       "      <td>1/3/2008</td>\n",
       "      <td>1447.160034</td>\n",
       "      <td>85.570000</td>\n",
       "      <td>78.370003</td>\n",
       "      <td>15.285</td>\n",
       "      <td>1.474491</td>\n",
       "    </tr>\n",
       "    <tr>\n",
       "      <th>2</th>\n",
       "      <td>1/4/2008</td>\n",
       "      <td>1411.630005</td>\n",
       "      <td>85.129997</td>\n",
       "      <td>77.309998</td>\n",
       "      <td>15.167</td>\n",
       "      <td>1.475492</td>\n",
       "    </tr>\n",
       "    <tr>\n",
       "      <th>3</th>\n",
       "      <td>1/7/2008</td>\n",
       "      <td>1416.180054</td>\n",
       "      <td>84.769997</td>\n",
       "      <td>75.500000</td>\n",
       "      <td>15.053</td>\n",
       "      <td>1.468299</td>\n",
       "    </tr>\n",
       "    <tr>\n",
       "      <th>4</th>\n",
       "      <td>1/8/2008</td>\n",
       "      <td>1390.189941</td>\n",
       "      <td>86.779999</td>\n",
       "      <td>76.059998</td>\n",
       "      <td>15.590</td>\n",
       "      <td>1.557099</td>\n",
       "    </tr>\n",
       "  </tbody>\n",
       "</table>\n",
       "</div>"
      ],
      "text/plain": [
       "       Date          SPX        GLD        USO     SLV   EUR/USD\n",
       "0  1/2/2008  1447.160034  84.860001  78.470001  15.180  1.471692\n",
       "1  1/3/2008  1447.160034  85.570000  78.370003  15.285  1.474491\n",
       "2  1/4/2008  1411.630005  85.129997  77.309998  15.167  1.475492\n",
       "3  1/7/2008  1416.180054  84.769997  75.500000  15.053  1.468299\n",
       "4  1/8/2008  1390.189941  86.779999  76.059998  15.590  1.557099"
      ]
     },
     "execution_count": 3,
     "metadata": {},
     "output_type": "execute_result"
    }
   ],
   "source": [
    "gold_data.head()"
   ]
  },
  {
   "cell_type": "code",
   "execution_count": 4,
   "metadata": {},
   "outputs": [
    {
     "data": {
      "text/html": [
       "<div>\n",
       "<style scoped>\n",
       "    .dataframe tbody tr th:only-of-type {\n",
       "        vertical-align: middle;\n",
       "    }\n",
       "\n",
       "    .dataframe tbody tr th {\n",
       "        vertical-align: top;\n",
       "    }\n",
       "\n",
       "    .dataframe thead th {\n",
       "        text-align: right;\n",
       "    }\n",
       "</style>\n",
       "<table border=\"1\" class=\"dataframe\">\n",
       "  <thead>\n",
       "    <tr style=\"text-align: right;\">\n",
       "      <th></th>\n",
       "      <th>Date</th>\n",
       "      <th>SPX</th>\n",
       "      <th>GLD</th>\n",
       "      <th>USO</th>\n",
       "      <th>SLV</th>\n",
       "      <th>EUR/USD</th>\n",
       "    </tr>\n",
       "  </thead>\n",
       "  <tbody>\n",
       "    <tr>\n",
       "      <th>2285</th>\n",
       "      <td>5/8/2018</td>\n",
       "      <td>2671.919922</td>\n",
       "      <td>124.589996</td>\n",
       "      <td>14.0600</td>\n",
       "      <td>15.5100</td>\n",
       "      <td>1.186789</td>\n",
       "    </tr>\n",
       "    <tr>\n",
       "      <th>2286</th>\n",
       "      <td>5/9/2018</td>\n",
       "      <td>2697.790039</td>\n",
       "      <td>124.330002</td>\n",
       "      <td>14.3700</td>\n",
       "      <td>15.5300</td>\n",
       "      <td>1.184722</td>\n",
       "    </tr>\n",
       "    <tr>\n",
       "      <th>2287</th>\n",
       "      <td>5/10/2018</td>\n",
       "      <td>2723.070068</td>\n",
       "      <td>125.180000</td>\n",
       "      <td>14.4100</td>\n",
       "      <td>15.7400</td>\n",
       "      <td>1.191753</td>\n",
       "    </tr>\n",
       "    <tr>\n",
       "      <th>2288</th>\n",
       "      <td>5/14/2018</td>\n",
       "      <td>2730.129883</td>\n",
       "      <td>124.489998</td>\n",
       "      <td>14.3800</td>\n",
       "      <td>15.5600</td>\n",
       "      <td>1.193118</td>\n",
       "    </tr>\n",
       "    <tr>\n",
       "      <th>2289</th>\n",
       "      <td>5/16/2018</td>\n",
       "      <td>2725.780029</td>\n",
       "      <td>122.543800</td>\n",
       "      <td>14.4058</td>\n",
       "      <td>15.4542</td>\n",
       "      <td>1.182033</td>\n",
       "    </tr>\n",
       "  </tbody>\n",
       "</table>\n",
       "</div>"
      ],
      "text/plain": [
       "           Date          SPX         GLD      USO      SLV   EUR/USD\n",
       "2285   5/8/2018  2671.919922  124.589996  14.0600  15.5100  1.186789\n",
       "2286   5/9/2018  2697.790039  124.330002  14.3700  15.5300  1.184722\n",
       "2287  5/10/2018  2723.070068  125.180000  14.4100  15.7400  1.191753\n",
       "2288  5/14/2018  2730.129883  124.489998  14.3800  15.5600  1.193118\n",
       "2289  5/16/2018  2725.780029  122.543800  14.4058  15.4542  1.182033"
      ]
     },
     "execution_count": 4,
     "metadata": {},
     "output_type": "execute_result"
    }
   ],
   "source": [
    "gold_data.tail()"
   ]
  },
  {
   "cell_type": "code",
   "execution_count": 5,
   "metadata": {},
   "outputs": [
    {
     "data": {
      "text/plain": [
       "(2290, 6)"
      ]
     },
     "execution_count": 5,
     "metadata": {},
     "output_type": "execute_result"
    }
   ],
   "source": [
    "gold_data.shape"
   ]
  },
  {
   "cell_type": "code",
   "execution_count": 6,
   "metadata": {},
   "outputs": [
    {
     "name": "stdout",
     "output_type": "stream",
     "text": [
      "<class 'pandas.core.frame.DataFrame'>\n",
      "RangeIndex: 2290 entries, 0 to 2289\n",
      "Data columns (total 6 columns):\n",
      " #   Column   Non-Null Count  Dtype  \n",
      "---  ------   --------------  -----  \n",
      " 0   Date     2290 non-null   object \n",
      " 1   SPX      2290 non-null   float64\n",
      " 2   GLD      2290 non-null   float64\n",
      " 3   USO      2290 non-null   float64\n",
      " 4   SLV      2290 non-null   float64\n",
      " 5   EUR/USD  2290 non-null   float64\n",
      "dtypes: float64(5), object(1)\n",
      "memory usage: 107.5+ KB\n"
     ]
    }
   ],
   "source": [
    "gold_data.info()"
   ]
  },
  {
   "cell_type": "code",
   "execution_count": 7,
   "metadata": {},
   "outputs": [
    {
     "data": {
      "text/plain": [
       "Date       0\n",
       "SPX        0\n",
       "GLD        0\n",
       "USO        0\n",
       "SLV        0\n",
       "EUR/USD    0\n",
       "dtype: int64"
      ]
     },
     "execution_count": 7,
     "metadata": {},
     "output_type": "execute_result"
    }
   ],
   "source": [
    "gold_data.isnull().sum()"
   ]
  },
  {
   "attachments": {},
   "cell_type": "markdown",
   "metadata": {},
   "source": [
    "<h4>Getting the Statistical Measures of the Data</h4>"
   ]
  },
  {
   "cell_type": "code",
   "execution_count": 8,
   "metadata": {},
   "outputs": [
    {
     "data": {
      "text/html": [
       "<div>\n",
       "<style scoped>\n",
       "    .dataframe tbody tr th:only-of-type {\n",
       "        vertical-align: middle;\n",
       "    }\n",
       "\n",
       "    .dataframe tbody tr th {\n",
       "        vertical-align: top;\n",
       "    }\n",
       "\n",
       "    .dataframe thead th {\n",
       "        text-align: right;\n",
       "    }\n",
       "</style>\n",
       "<table border=\"1\" class=\"dataframe\">\n",
       "  <thead>\n",
       "    <tr style=\"text-align: right;\">\n",
       "      <th></th>\n",
       "      <th>SPX</th>\n",
       "      <th>GLD</th>\n",
       "      <th>USO</th>\n",
       "      <th>SLV</th>\n",
       "      <th>EUR/USD</th>\n",
       "    </tr>\n",
       "  </thead>\n",
       "  <tbody>\n",
       "    <tr>\n",
       "      <th>count</th>\n",
       "      <td>2290.000000</td>\n",
       "      <td>2290.000000</td>\n",
       "      <td>2290.000000</td>\n",
       "      <td>2290.000000</td>\n",
       "      <td>2290.000000</td>\n",
       "    </tr>\n",
       "    <tr>\n",
       "      <th>mean</th>\n",
       "      <td>1654.315776</td>\n",
       "      <td>122.732875</td>\n",
       "      <td>31.842221</td>\n",
       "      <td>20.084997</td>\n",
       "      <td>1.283653</td>\n",
       "    </tr>\n",
       "    <tr>\n",
       "      <th>std</th>\n",
       "      <td>519.111540</td>\n",
       "      <td>23.283346</td>\n",
       "      <td>19.523517</td>\n",
       "      <td>7.092566</td>\n",
       "      <td>0.131547</td>\n",
       "    </tr>\n",
       "    <tr>\n",
       "      <th>min</th>\n",
       "      <td>676.530029</td>\n",
       "      <td>70.000000</td>\n",
       "      <td>7.960000</td>\n",
       "      <td>8.850000</td>\n",
       "      <td>1.039047</td>\n",
       "    </tr>\n",
       "    <tr>\n",
       "      <th>25%</th>\n",
       "      <td>1239.874969</td>\n",
       "      <td>109.725000</td>\n",
       "      <td>14.380000</td>\n",
       "      <td>15.570000</td>\n",
       "      <td>1.171313</td>\n",
       "    </tr>\n",
       "    <tr>\n",
       "      <th>50%</th>\n",
       "      <td>1551.434998</td>\n",
       "      <td>120.580002</td>\n",
       "      <td>33.869999</td>\n",
       "      <td>17.268500</td>\n",
       "      <td>1.303297</td>\n",
       "    </tr>\n",
       "    <tr>\n",
       "      <th>75%</th>\n",
       "      <td>2073.010070</td>\n",
       "      <td>132.840004</td>\n",
       "      <td>37.827501</td>\n",
       "      <td>22.882500</td>\n",
       "      <td>1.369971</td>\n",
       "    </tr>\n",
       "    <tr>\n",
       "      <th>max</th>\n",
       "      <td>2872.870117</td>\n",
       "      <td>184.589996</td>\n",
       "      <td>117.480003</td>\n",
       "      <td>47.259998</td>\n",
       "      <td>1.598798</td>\n",
       "    </tr>\n",
       "  </tbody>\n",
       "</table>\n",
       "</div>"
      ],
      "text/plain": [
       "               SPX          GLD          USO          SLV      EUR/USD\n",
       "count  2290.000000  2290.000000  2290.000000  2290.000000  2290.000000\n",
       "mean   1654.315776   122.732875    31.842221    20.084997     1.283653\n",
       "std     519.111540    23.283346    19.523517     7.092566     0.131547\n",
       "min     676.530029    70.000000     7.960000     8.850000     1.039047\n",
       "25%    1239.874969   109.725000    14.380000    15.570000     1.171313\n",
       "50%    1551.434998   120.580002    33.869999    17.268500     1.303297\n",
       "75%    2073.010070   132.840004    37.827501    22.882500     1.369971\n",
       "max    2872.870117   184.589996   117.480003    47.259998     1.598798"
      ]
     },
     "execution_count": 8,
     "metadata": {},
     "output_type": "execute_result"
    }
   ],
   "source": [
    "gold_data.describe()"
   ]
  },
  {
   "attachments": {},
   "cell_type": "markdown",
   "metadata": {},
   "source": [
    "<h4>Correlation</h4>"
   ]
  },
  {
   "cell_type": "code",
   "execution_count": 9,
   "metadata": {},
   "outputs": [],
   "source": [
    "correlation = gold_data.corr()"
   ]
  },
  {
   "cell_type": "code",
   "execution_count": 10,
   "metadata": {},
   "outputs": [
    {
     "data": {
      "text/plain": [
       "<AxesSubplot:>"
      ]
     },
     "execution_count": 10,
     "metadata": {},
     "output_type": "execute_result"
    },
    {
     "data": {
      "image/png": "[encoded data removed]",
      "text/plain": [
       "<Figure size 576x576 with 2 Axes>"
      ]
     },
     "metadata": {
      "needs_background": "light"
     },
     "output_type": "display_data"
    }
   ],
   "source": [
    "plt.figure(figsize = (8, 8))\n",
    "sns.heatmap(correlation, cbar = True, square = True, fmt = '.1f', annot = True, annot_kws = {'size' : 8}, cmap = 'Blues')"
   ]
  },
  {
   "cell_type": "code",
   "execution_count": 11,
   "metadata": {},
   "outputs": [
    {
     "name": "stdout",
     "output_type": "stream",
     "text": [
      "SPX        0.049345\n",
      "GLD        1.000000\n",
      "USO       -0.186360\n",
      "SLV        0.866632\n",
      "EUR/USD   -0.024375\n",
      "Name: GLD, dtype: float64\n"
     ]
    }
   ],
   "source": [
    "print(correlation['GLD'])"
   ]
  },
  {
   "cell_type": "code",
   "execution_count": 12,
   "metadata": {},
   "outputs": [
    {
     "name": "stderr",
     "output_type": "stream",
     "text": [
      "c:\\Users\\DELL\\anaconda3\\lib\\site-packages\\seaborn\\distributions.py:2619: FutureWarning: `distplot` is a deprecated function and will be removed in a future version. Please adapt your code to use either `displot` (a figure-level function with similar flexibility) or `histplot` (an axes-level function for histograms).\n",
      "  warnings.warn(msg, FutureWarning)\n"
     ]
    },
    {
     "data": {
      "text/plain": [
       "<AxesSubplot:xlabel='GLD', ylabel='Density'>"
      ]
     },
     "execution_count": 12,
     "metadata": {},
     "output_type": "execute_result"
    },
    {
     "data": {
      "image/png": "[encoded data removed]",
      "text/plain": [
       "<Figure size 432x288 with 1 Axes>"
      ]
     },
     "metadata": {
      "needs_background": "light"
     },
     "output_type": "display_data"
    }
   ],
   "source": [
    "sns.distplot(gold_data['GLD'], color = 'blue')"
   ]
  },
  {
   "attachments": {},
   "cell_type": "markdown",
   "metadata": {},
   "source": [
    "<h4>Splitting the Features and the Target</h4>\n",
    "<h6><i>In this GLD is the out put and SPX, SLV, EUR are the features</i></h6>"
   ]
  },
  {
   "cell_type": "code",
   "execution_count": 13,
   "metadata": {},
   "outputs": [],
   "source": [
    "X = gold_data.drop(['Date', 'GLD'], axis = 1)\n",
    "Y = gold_data['GLD']"
   ]
  },
  {
   "cell_type": "code",
   "execution_count": 14,
   "metadata": {},
   "outputs": [
    {
     "name": "stdout",
     "output_type": "stream",
     "text": [
      "              SPX        USO      SLV   EUR/USD\n",
      "0     1447.160034  78.470001  15.1800  1.471692\n",
      "1     1447.160034  78.370003  15.2850  1.474491\n",
      "2     1411.630005  77.309998  15.1670  1.475492\n",
      "3     1416.180054  75.500000  15.0530  1.468299\n",
      "4     1390.189941  76.059998  15.5900  1.557099\n",
      "...           ...        ...      ...       ...\n",
      "2285  2671.919922  14.060000  15.5100  1.186789\n",
      "2286  2697.790039  14.370000  15.5300  1.184722\n",
      "2287  2723.070068  14.410000  15.7400  1.191753\n",
      "2288  2730.129883  14.380000  15.5600  1.193118\n",
      "2289  2725.780029  14.405800  15.4542  1.182033\n",
      "\n",
      "[2290 rows x 4 columns]\n",
      "0        84.860001\n",
      "1        85.570000\n",
      "2        85.129997\n",
      "3        84.769997\n",
      "4        86.779999\n",
      "           ...    \n",
      "2285    124.589996\n",
      "2286    124.330002\n",
      "2287    125.180000\n",
      "2288    124.489998\n",
      "2289    122.543800\n",
      "Name: GLD, Length: 2290, dtype: float64\n"
     ]
    }
   ],
   "source": [
    "print(X)\n",
    "print(Y)"
   ]
  },
  {
   "attachments": {},
   "cell_type": "markdown",
   "metadata": {},
   "source": [
    "<h4>Splitting into Train and Test Data</h4>"
   ]
  },
  {
   "cell_type": "code",
   "execution_count": 15,
   "metadata": {},
   "outputs": [],
   "source": [
    "X_train, X_test, Y_train, Y_test = train_test_split(X, Y, test_size = 0.2, random_state = 2)"
   ]
  },
  {
   "attachments": {},
   "cell_type": "markdown",
   "metadata": {},
   "source": [
    "<h4>Model Training</h4>\n"
   ]
  },
  {
   "cell_type": "code",
   "execution_count": 16,
   "metadata": {},
   "outputs": [],
   "source": [
    "regressor = RandomForestRegressor(n_estimators = 100)"
   ]
  },
  {
   "cell_type": "code",
   "execution_count": 17,
   "metadata": {},
   "outputs": [
    {
     "data": {
      "text/plain": [
       "RandomForestRegressor()"
      ]
     },
     "execution_count": 17,
     "metadata": {},
     "output_type": "execute_result"
    }
   ],
   "source": [
    "regressor.fit(X_train, Y_train)"
   ]
  },
  {
   "attachments": {},
   "cell_type": "markdown",
   "metadata": {},
   "source": [
    "<h4>Model Estimation</h4>\n"
   ]
  },
  {
   "cell_type": "code",
   "execution_count": 18,
   "metadata": {},
   "outputs": [
    {
     "name": "stdout",
     "output_type": "stream",
     "text": [
      "[168.75789935  81.89919981 116.05309983 127.73650074 120.98970114\n",
      " 154.80459746 149.97069806 126.04550039 117.5944988  125.98750069\n",
      " 116.53040127 171.54990092 141.39009863 167.62729859 115.33029995\n",
      " 117.48570051 139.45040359 170.16810108 159.86140384 156.63859925\n",
      " 155.07119988 125.35300062 175.32899988 157.03270387 125.29360037\n",
      "  93.75729995  77.4476999  120.77210025 119.06639927 167.5599997\n",
      "  88.28660037 125.16850008  91.18940076 117.76579999 121.17519905\n",
      " 136.36000113 115.48780097 115.18730062 148.21979981 106.9786015\n",
      " 104.33300237  87.21369798 126.34400033 117.78069996 153.0746991\n",
      " 119.72780007 108.51209998 108.30889824  93.13130029 127.11069792\n",
      "  75.17190017 113.67409959 121.51420008 111.11769894 118.86309882\n",
      " 120.57409947 160.21959997 167.751201   147.04399701  86.11229888\n",
      "  94.3180003   86.81279884  90.61750007 119.05580094 126.42220084\n",
      " 127.55110044 168.43579983 122.31359919 117.45639895  98.79820049\n",
      " 168.71080113 143.14849859 132.02940188 121.28390228 120.80619946\n",
      " 119.77340059 114.28320152 118.65520047 107.06850101 127.93940039\n",
      " 114.15569992 107.59419979 116.69960079 119.63779888  88.96880087\n",
      "  88.31799901 146.90090207 127.44540026 113.4551003  109.24459855\n",
      " 108.13179908  77.20279909 169.93890194 114.023899   121.61919885\n",
      " 128.11030194 154.90679769  91.80309933 136.21090054 159.24380362\n",
      " 125.39030054 125.47540038 130.69280199 114.73290106 119.97190024\n",
      "  92.18439984 110.29999894 165.17959943 157.33519989 114.16849917\n",
      " 106.40780152  79.10889996 113.37330029 125.80850069 106.98459965\n",
      " 119.75080105 155.7764035  159.89089956 120.35869999 134.04110348\n",
      " 101.61359968 117.56359787 119.28210036 112.83330083 102.80839911\n",
      " 159.99779831  99.25670039 147.77089999 125.54290128 169.40269944\n",
      " 125.35079945 127.32569766 127.57730184 113.82729932 112.94060079\n",
      " 123.29129886 102.26269909  89.06909987 124.51779956 101.77359941\n",
      " 107.01609892 113.65310059 117.22620064  99.37489959 121.67590081\n",
      " 163.29339914  87.41859859 106.79820008 117.14960058 127.67970132\n",
      " 123.93730072  80.57379948 120.34300064 158.62039769  87.82009994\n",
      " 110.08239947 118.90349928 172.19609904 103.03859887 105.14440042\n",
      " 122.56210044 158.34529788  87.80809834  93.16410044 112.85410019\n",
      " 177.63529988 114.07679974 119.27930024  94.60580074 125.75799998\n",
      " 166.05540067 114.82100041 116.84330117  88.28079898 148.91490128\n",
      " 120.5468997   89.55799997 112.52940012 117.32750046 118.74230128\n",
      "  88.04009912  94.18109998 116.8681001  118.47810179 120.28840026\n",
      " 126.78279835 121.8770995  149.00360031 166.01820042 118.47269966\n",
      " 120.43010158 148.86330129 118.63489856 172.96839913 105.38639951\n",
      " 104.92460128 149.19230134 113.67710099 124.78120131 147.13650059\n",
      " 119.59380092 115.57450044 112.59210005 113.41680184 141.62390176\n",
      " 117.85429767 102.95490064 115.87600113 103.84010176  98.69000046\n",
      " 117.56310093  90.67919991  91.72380061 153.30529913 102.76259973\n",
      " 154.73420037 114.27840161 139.71890119  90.16619801 115.51149934\n",
      " 114.35709954 122.9904008  121.69360014 165.21790202  92.8422994\n",
      " 135.75840192 121.29329943 120.88070075 104.63190045 143.148903\n",
      " 121.55959935 116.80790067 113.74990103 127.02109788 122.59829948\n",
      " 125.69069927 121.18240056  86.74969899 132.41590145 145.10510193\n",
      "  92.68639947 156.95819882 159.42320228 126.34579908 165.26349932\n",
      " 109.03469941 109.72330057 103.66389822  94.32510093 127.94130295\n",
      " 106.93930084 159.78639966 121.73580066 132.14579987 130.7030022\n",
      " 160.42589944  90.20389858 175.25750174 127.76160027 126.75729878\n",
      "  86.55069951 124.54469966 150.35429716  89.72270023 107.08349988\n",
      " 108.99269986  83.7546988  135.88299922 155.08260222 138.57920382\n",
      "  73.78440039 150.23950187 126.28649965 126.85190028 127.48049924\n",
      " 108.5664996  156.15940068 114.45760092 116.90960152 125.28599931\n",
      " 153.96060179 121.14730004 156.43769924  92.93990058 125.52790144\n",
      " 125.55950042  87.87350061  92.29769922 126.27869945 128.67650449\n",
      " 113.21680032 117.70109745 120.92280005 126.9985982  119.48420107\n",
      " 136.48630084  94.00029942 119.88030031 113.34010103  94.3922994\n",
      " 109.00619989  87.40789918 109.09719946  89.65269969  92.35910025\n",
      " 131.72980346 162.25080067  89.1615002  119.72100113 133.11640158\n",
      " 123.7841003  128.32660202 101.98869864  88.91679883 131.51640053\n",
      " 120.2427001  108.59870007 167.69690068 115.26840042  86.5841988\n",
      " 118.8008005   91.20169984 161.46300041 116.73050056 121.42259995\n",
      " 160.184898   120.17499926 113.0117991  108.49379864 126.88009986\n",
      "  75.88920033 102.93239976 127.70980244 121.7504995   92.53349993\n",
      " 131.7073005  118.10170139 116.14319963 154.72590245 160.04640093\n",
      " 110.05039991 151.25649724 119.22170087 160.86440143 118.6314002\n",
      " 157.48509998 115.03699941 116.70450015 149.17669909 114.87840057\n",
      " 125.86329867 165.22919938 117.58070037 124.94379911 153.42900298\n",
      " 153.33370251 132.14130056 114.82950039 121.23320198 125.11020073\n",
      "  89.72080061 123.17129972 154.72860111 111.84500046 106.73669968\n",
      " 161.60860142 118.34469983 165.78320002 134.0521009  115.18539942\n",
      " 152.92159784 168.78389984 113.33830008 114.11390122 156.91459859\n",
      "  85.40059853 127.08200082 128.00090049 128.97590021 124.42150055\n",
      " 123.64560044  90.52380091 153.26799968  96.96179966 138.50109945\n",
      "  88.99819923 107.57359982 115.09510043 112.84830079 124.4165992\n",
      "  91.34959902 125.29310078 162.15609812 119.92739884 164.92230126\n",
      " 126.76809811 112.20140008 127.47189954  94.68239886  91.13549981\n",
      " 103.36329921 120.69530025  83.28789945 126.52240004 160.63600441\n",
      " 117.22000084 118.46509964 119.68369998 122.49709955 120.0989013\n",
      " 121.58810017 118.41310026 106.85800032 148.38980021 126.02039912\n",
      " 115.66720036  73.89430042 127.82650076 154.69670083 122.01449984\n",
      " 125.63330056  88.83490021 103.29179884 125.13580024 120.29360044\n",
      "  73.59240066 151.30240066 121.16910066 104.56219995  86.47019783\n",
      " 114.9534993  172.22529852 119.75340021 159.5427981  113.30169959\n",
      " 121.21239956 118.59880142  96.05539974 118.93819985 125.90230043\n",
      " 118.40279959  96.04870048 153.94250204 121.75839987 147.77089964\n",
      " 159.33540255 113.90729994 122.51569928 151.18609866 127.03440054\n",
      " 165.94060061 136.42100041 120.0888997  166.93919927 108.61449943\n",
      " 121.74359854 140.17330206 106.39759893]\n"
     ]
    }
   ],
   "source": [
    "test_data_predict = regressor.predict(X_test)\n",
    "print(test_data_predict)"
   ]
  },
  {
   "attachments": {},
   "cell_type": "markdown",
   "metadata": {},
   "source": [
    "<h4>Compare the actual and predicted values</h4>\n"
   ]
  },
  {
   "cell_type": "code",
   "execution_count": 19,
   "metadata": {},
   "outputs": [
    {
     "name": "stdout",
     "output_type": "stream",
     "text": [
      "R Squared Error is :  0.9895222907353168\n"
     ]
    }
   ],
   "source": [
    "error_score = metrics.r2_score(test_data_predict, Y_test)\n",
    "print(\"R Squared Error is : \", error_score)"
   ]
  },
  {
   "cell_type": "code",
   "execution_count": 20,
   "metadata": {},
   "outputs": [],
   "source": [
    "Y_test = list(Y_test)"
   ]
  },
  {
   "cell_type": "code",
   "execution_count": 21,
   "metadata": {},
   "outputs": [
    {
     "data": {
      "image/png": "[encoded data removed]",
      "text/plain": [
       "<Figure size 432x288 with 1 Axes>"
      ]
     },
     "metadata": {
      "needs_background": "light"
     },
     "output_type": "display_data"
    }
   ],
   "source": [
    "plt.plot(Y_test, color= 'blue', label = \"Actual Values\")\n",
    "plt.plot(test_data_predict, color ='green', label= \"Predicted Values\")\n",
    "plt.title(\"Actual Price VS Predicted Price\")\n",
    "plt.xlabel('Number of Values')\n",
    "plt.ylabel('GLD Price')\n",
    "plt.legend()\n",
    "plt.show()"
   ]
  },
  {
   "attachments": {},
   "cell_type": "markdown",
   "metadata": {},
   "source": [
    "<h4>Pickling the Model File for Deployment</h4>"
   ]
  },
  {
   "cell_type": "code",
   "execution_count": 22,
   "metadata": {},
   "outputs": [],
   "source": [
    "import pickle\n",
    "pickle.dump(RandomForestRegressor, open('regressor.pkl','wb'))"
   ]
  },
  {
   "cell_type": "code",
   "execution_count": 23,
   "metadata": {},
   "outputs": [],
   "source": [
    "pickeled_model = pickle.load(open('regressor.pkl', 'rb'))"
   ]
  },
  {
   "cell_type": "code",
   "execution_count": null,
   "metadata": {},
   "outputs": [],
   "source": []
  }
 ],
 "metadata": {
  "kernelspec": {
   "display_name": "base",
   "language": "python",
   "name": "python3"
  },
  "language_info": {
   "codemirror_mode": {
    "name": "ipython",
    "version": 3
   },
   "file_extension": ".py",
   "mimetype": "text/x-python",
   "name": "python",
   "nbconvert_exporter": "python",
   "pygments_lexer": "ipython3",
   "version": "3.9.12"
  },
  "orig_nbformat": 4,
  "vscode": {
   "interpreter": {
    "hash": "5ae58900cfbb8c43ab3495913814b7cf26024f51651a94ce8bf64d6111688e8d"
   }
  }
 },
 "nbformat": 4,
 "nbformat_minor": 2
}
